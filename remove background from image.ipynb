{
 "cells": [
  {
   "cell_type": "code",
   "execution_count": 1,
   "id": "9a9827a8",
   "metadata": {},
   "outputs": [],
   "source": [
    "import cv2\n",
    "import numpy as np\n",
    "import  matplotlib.pyplot as plt\n",
    "%matplotlib inline"
   ]
  },
  {
   "cell_type": "code",
   "execution_count": 2,
   "id": "1cc451e6",
   "metadata": {},
   "outputs": [
    {
     "data": {
      "text/plain": [
       "-1"
      ]
     },
     "execution_count": 2,
     "metadata": {},
     "output_type": "execute_result"
    }
   ],
   "source": [
    "myimage=cv2.imread(\"can.png\")\n",
    "cv2.imshow(\"\",myimage)\n",
    "cv2.waitKey(0)"
   ]
  },
  {
   "cell_type": "code",
   "execution_count": null,
   "id": "829d15c8",
   "metadata": {},
   "outputs": [],
   "source": [
    " if (myimage.ndim>2):  \n",
    "        myimage = myimage[:,:,::-1]"
   ]
  },
  {
   "cell_type": "code",
   "execution_count": null,
   "id": "d425b9a8",
   "metadata": {},
   "outputs": [],
   "source": [
    "fig, ax = plt.subplots(figsize=[10,10])\n",
    "ax.imshow(myimage, cmap = 'gray', interpolation = 'bicubic')\n",
    "plt.xticks([]), plt.yticks([])  # to hide tick values on X and Y axis\n",
    "plt.show()"
   ]
  },
  {
   "cell_type": "code",
   "execution_count": null,
   "id": "4cab49ad",
   "metadata": {},
   "outputs": [],
   "source": [
    " myimage = cv2.GaussianBlur(myimage,(5,5), 0)"
   ]
  },
  {
   "cell_type": "code",
   "execution_count": null,
   "id": "02f96e80",
   "metadata": {},
   "outputs": [],
   "source": [
    "bins=np.array([0,51,102,153,204,255])\n",
    "myimage[:,:,:] = np.digitize(myimage[:,:,:],bins,right=True)*51"
   ]
  },
  {
   "cell_type": "code",
   "execution_count": null,
   "id": "8006d528",
   "metadata": {},
   "outputs": [],
   "source": [
    " myimage_grey = cv2.cvtColor(myimage, cv2.COLOR_BGR2GRAY)"
   ]
  },
  {
   "cell_type": "code",
   "execution_count": null,
   "id": "aa959570",
   "metadata": {},
   "outputs": [],
   "source": [
    "ret,background = cv2.threshold(myimage_grey,0,255,cv2.THRESH_BINARY+cv2.THRESH_OTSU)"
   ]
  },
  {
   "cell_type": "code",
   "execution_count": null,
   "id": "bea10a9c",
   "metadata": {},
   "outputs": [],
   "source": [
    "background = cv2.cvtColor(background, cv2.COLOR_GRAY2BGR)"
   ]
  },
  {
   "cell_type": "code",
   "execution_count": null,
   "id": "ce24bdc9",
   "metadata": {},
   "outputs": [],
   "source": [
    "ret,foreground = cv2.threshold(myimage_grey,0,255,cv2.THRESH_TOZERO_INV+cv2.THRESH_OTSU)  #Currently foreground is only a mask\n",
    "foreground = cv2.bitwise_and(myimage,myimage, mask=foreground)"
   ]
  },
  {
   "cell_type": "code",
   "execution_count": null,
   "id": "5a9e375e",
   "metadata": {},
   "outputs": [],
   "source": [
    "finalimage = background+foreground"
   ]
  },
  {
   "cell_type": "code",
   "execution_count": null,
   "id": "66ae132b",
   "metadata": {},
   "outputs": [],
   "source": [
    "cv2.imshow(\"\",finalimage)\n",
    "cv2.waitKey(0)"
   ]
  },
  {
   "cell_type": "code",
   "execution_count": null,
   "id": "ba301a2b",
   "metadata": {},
   "outputs": [],
   "source": []
  },
  {
   "cell_type": "code",
   "execution_count": null,
   "id": "be15ae7f",
   "metadata": {},
   "outputs": [],
   "source": []
  }
 ],
 "metadata": {
  "kernelspec": {
   "display_name": "Python 3 (ipykernel)",
   "language": "python",
   "name": "python3"
  },
  "language_info": {
   "codemirror_mode": {
    "name": "ipython",
    "version": 3
   },
   "file_extension": ".py",
   "mimetype": "text/x-python",
   "name": "python",
   "nbconvert_exporter": "python",
   "pygments_lexer": "ipython3",
   "version": "3.9.13"
  }
 },
 "nbformat": 4,
 "nbformat_minor": 5
}
